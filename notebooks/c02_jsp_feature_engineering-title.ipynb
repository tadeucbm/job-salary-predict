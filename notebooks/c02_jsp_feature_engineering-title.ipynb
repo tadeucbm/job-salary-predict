{
 "cells": [
  {
   "cell_type": "markdown",
   "id": "4b7077ce",
   "metadata": {},
   "source": [
    "# 0.0. Planejamento\n",
    "##  Input\n",
    "### Dados: \n",
    "* **Id**: Identificador Único;\n",
    "* **Title**: Título da vaga;\n",
    "* **FullDescription**: Texto completo com a descrição da vaga;\n",
    "* **LocationRaw**: Texto cru da localizacao da vaga;\n",
    "* **LocationNormalized**: Localizacao normalizada - **Carrega erro**;\n",
    "* **ContractType**: Tipo de contrato. Indica como é o regime de horas da vaga. Pode ser:\n",
    "    * full_time;\n",
    "    * part_time.\n",
    "* **ContractTime**: Tempo de validade do contrato. Pode ser:\n",
    "    * permanent;\n",
    "    * contract.\n",
    "* **Company**: Nome da compania que está contratanto;\n",
    "* **Category**: 30 categorias de trabalho - **Carrega erro**;\n",
    "* **SalaryNormalised**: Salario anualizado da vaga. O que estamos buscando prever;\n",
    "* **SourceName**: Nome to site o qual recebemos a vaga.\n",
    "\n",
    "### Problema:\n",
    "* Temos um conjunto de dados com as informacoes de vagas abertas. Com base nessas \\\n",
    "informacoes, devemos criar um algoritmo capaz de prever o salário em novas vagas.\n",
    "\n",
    "## Output\n",
    "* **Modelo**: Um modelo capaz de prever o salario de novos usuarios;\n",
    "* **WebApp**: Um webapp que carregue esse modelo e faça previsões;\n",
    "* **EDA**: Uma Análise Exploratória dos Dados e do Modelo:\n",
    "    - Relatório do Modelo;\n",
    "    - Relatório do Projeto.\n",
    "\n",
    "\n",
    "## Tasks\n",
    "1. Planejamento;\n",
    "2. Ciclos;\n",
    "3. Construcao do Modelo Final;\n",
    "    - Métrica Principal: Mean Absolute Error (MAE)\n",
    "4. Desenvolvimento do WebApp;\n",
    "5. Deploy;"
   ]
  },
  {
   "cell_type": "markdown",
   "id": "118c4f49",
   "metadata": {},
   "source": [
    "# 1.0. Imports"
   ]
  },
  {
   "cell_type": "code",
   "execution_count": 1,
   "id": "a12ea19c",
   "metadata": {},
   "outputs": [
    {
     "name": "stderr",
     "output_type": "stream",
     "text": [
      "[nltk_data] Downloading package punkt to /home/tadeu/nltk_data...\n",
      "[nltk_data]   Package punkt is already up-to-date!\n",
      "[nltk_data] Downloading package stopwords to /home/tadeu/nltk_data...\n",
      "[nltk_data]   Package stopwords is already up-to-date!\n",
      "[nltk_data] Downloading package wordnet to /home/tadeu/nltk_data...\n",
      "[nltk_data]   Package wordnet is already up-to-date!\n"
     ]
    }
   ],
   "source": [
    "# Data Manipulation\n",
    "import pandas as pd\n",
    "import numpy as np\n",
    "\n",
    "# Data Plot\n",
    "import seaborn as sns\n",
    "from matplotlib import pyplot as plt\n",
    "from IPython.display import HTML\n",
    "\n",
    "# Model\n",
    "from sklearn.preprocessing import OneHotEncoder\n",
    "from sklearn.compose import ColumnTransformer\n",
    "\n",
    "from sklearn.ensemble import RandomForestRegressor\n",
    "from sklearn.linear_model import LinearRegression\n",
    "from sklearn.tree import DecisionTreeRegressor\n",
    "from sklearn.gaussian_process import GaussianProcessRegressor\n",
    "\n",
    "from sklearn.model_selection import train_test_split, cross_validate, KFold\n",
    "from sklearn.metrics import mean_absolute_error, mean_absolute_percentage_error, mean_squared_error\n",
    "\n",
    "from xgboost import XGBRegressor\n",
    "\n",
    "# NLP\n",
    "import re\n",
    "import nltk\n",
    "from nltk.corpus import stopwords\n",
    "from nltk.stem.wordnet import WordNetLemmatizer\n",
    "from nltk.tokenize import word_tokenize\n",
    "\n",
    "nltk.download('punkt')\n",
    "nltk.download('stopwords')\n",
    "nltk.download('wordnet')\n",
    "\n",
    "# stats\n",
    "from scipy.stats import pointbiserialr"
   ]
  },
  {
   "cell_type": "markdown",
   "id": "07443869",
   "metadata": {},
   "source": [
    "## 1.1. Helper Functions"
   ]
  },
  {
   "cell_type": "code",
   "execution_count": 2,
   "id": "3124a3ea",
   "metadata": {},
   "outputs": [
    {
     "name": "stdout",
     "output_type": "stream",
     "text": [
      "Populating the interactive namespace from numpy and matplotlib\n"
     ]
    },
    {
     "data": {
      "text/html": [
       "<style>.container{width:100% !important;}</style>"
      ],
      "text/plain": [
       "<IPython.core.display.HTML object>"
      ]
     },
     "metadata": {},
     "output_type": "display_data"
    }
   ],
   "source": [
    "def jupyter_settings():\n",
    "    \"\"\"\n",
    "    \n",
    "    \"\"\"\n",
    "    %matplotlib inline\n",
    "    %pylab inline\n",
    "    \n",
    "    plt.style.use('ggplot')\n",
    "    plt.rcParams['figure.figsize'] = [24, 9]\n",
    "    plt.rcParams['font.size'] = 24\n",
    "    \n",
    "    display(HTML('<style>.container{width:100% !important;}</style>'))\n",
    "    pd.options.display.max_columns = None\n",
    "    pd.options.display.max_rows = None\n",
    "    pd.set_option('display.expand_frame_repr', False)\n",
    "    \n",
    "    sns.set()\n",
    "    \n",
    "jupyter_settings()\n",
    "\n",
    "\n",
    "def cross_val_performance(X_train, y_train, model, cv):\n",
    "    \n",
    "    # Cross Val Train\n",
    "    results = cross_validate(model, \n",
    "                             X_train, \n",
    "                             y_train, \n",
    "                             cv=cv,\n",
    "                             scoring=[\n",
    "                                 'neg_mean_absolute_error', \n",
    "                                 'neg_mean_absolute_percentage_error', \n",
    "                                 'neg_root_mean_squared_error'\n",
    "                             ]\n",
    "                            )\n",
    "    \n",
    "    # Performance\n",
    "    mae = round(np.mean(results['test_neg_mean_absolute_error'] * -1), 2)\n",
    "    mape = round(np.mean(results['test_neg_mean_absolute_percentage_error'] * -1), 4)\n",
    "    rmse = round(np.mean(results['test_neg_root_mean_squared_error'] * -1), 2)\n",
    "    time = round(np.mean(results['fit_time']), 2)\n",
    "    \n",
    "    df_results = pd.DataFrame(\n",
    "                {\n",
    "                    'Modelo': type(model).__name__,\n",
    "                    'MAE': mae,\n",
    "                    'MAPE': mape,\n",
    "                    'RMSE': rmse,\n",
    "                    'time': time\n",
    "                },\n",
    "                index=[0]\n",
    "            )\n",
    "    \n",
    "    return df_results\n",
    "\n",
    "\n",
    "def baseline_performance(y_train, n_splits):\n",
    "    \"\"\"\n",
    "    Return a cross validation metric from the baseline model - mean\n",
    "    Input:\n",
    "        y_train: array with train response variables\n",
    "        n_splits: number of folds\n",
    "    \"\"\"\n",
    "    kf = KFold(n_splits=n_splits)\n",
    "    \n",
    "    mae_list = []\n",
    "    mape_list = []\n",
    "    rmse_list = []\n",
    "    \n",
    "    for train_index, valid_index in kf.split(y_train): # split index train - valid\n",
    "        \n",
    "        new_y_train = y_train.iloc[train_index]\n",
    "        new_y_valid = y_train.iloc[valid_index]\n",
    "        \n",
    "        y_hat = np.repeat(new_y_train.mean(), len(new_y_valid))\n",
    "        \n",
    "        mae_list.append(mean_absolute_error(new_y_valid, y_hat))\n",
    "        mape_list.append(mean_absolute_percentage_error(new_y_valid, y_hat))\n",
    "        rmse_list.append(sqrt(mean_squared_error(new_y_valid, y_hat)))\n",
    "        \n",
    "    df_results = pd.DataFrame(\n",
    "                {\n",
    "                    'Modelo': 'Baseline',\n",
    "                    'MAE': round(np.mean(mae_list), 3),\n",
    "                    'MAPE': round(np.mean(mape_list), 3),\n",
    "                    'RMSE': round(np.mean(rmse_list), 3),\n",
    "                    'time': 0\n",
    "                },\n",
    "                index=[0]\n",
    "            )\n",
    "    \n",
    "    return df_results\n",
    "\n",
    "\n",
    "def tokenize(text):\n",
    "    # normalize case and remove punctuation\n",
    "    text = re.sub(r\"[^a-zA-Z0-9]\", \" \", text.lower())\n",
    "    \n",
    "    # tokenize text\n",
    "    tokens = word_tokenize(text)\n",
    "    \n",
    "    # lemmatize andremove stop words and remove single letters:\n",
    "    tokens = [lemmatizer.lemmatize(word) for word in tokens if (word not in stop_words) and (len(word) >= 2)]\n",
    "\n",
    "    return tokens\n",
    "\n",
    "\n",
    "def count_list_series(df, column, only_values=False):\n",
    "    \"\"\"\n",
    "    Input:\n",
    "    df - pandas dataframe containing the column to be counted;\n",
    "    column - columns with the list entries that must have the values counted;\n",
    "    describe - if True, return count and percentage. \n",
    "    \n",
    "    Output:\n",
    "    df - a new dataframe containing:\n",
    "        Value: the name of the variable to be counted;\n",
    "        Count: count of the variable;\n",
    "        Percentage: the percentage of the value in relation to the number of lines.\n",
    "    \"\"\"\n",
    "    final_list = []\n",
    "    df_aux = df[column].dropna(axis=0) # droping na values to analysis. selecting only entries with a list\n",
    "    for index, value in enumerate(df_aux):\n",
    "        for language in value:\n",
    "            final_list.append(language)\n",
    "            \n",
    "    if only_values == False:\n",
    "        value, counts = np.unique(final_list, return_counts=True)\n",
    "        df_final = pd.DataFrame(counts, value).sort_values(by=0, ascending=False).reset_index().rename({'index': 'Value', 0: 'Count'}, axis=1)\n",
    "        df_final['Percentage'] = round((100 * df_final['Count'] / len(df)), 2)\n",
    "        \n",
    "        return df_final\n",
    "    \n",
    "    else:\n",
    "        \n",
    "        return set(final_list)\n",
    "    \n",
    "\n",
    "def corr_words(df, x_column, y_column, list_words):\n",
    "\n",
    "    dict_words = {}\n",
    "    df_corr = df.loc[:, [x_column, y_column]]\n",
    "    \n",
    "    for word in list_words:            \n",
    "        \n",
    "        df_corr['Corr_test'] = [1 if word in row else 0 for row in df_corr[x_column] ] \n",
    "        result = pointbiserialr(df_corr['Corr_test'], df_corr[y_column])\n",
    "\n",
    "        dict_words[word] = [result[0], result[1]]\n",
    "        \n",
    "    return pd.DataFrame(dict_words, index=['Corr', 'p-value']).T.sort_values(by='Corr')"
   ]
  },
  {
   "cell_type": "markdown",
   "id": "fde987ea",
   "metadata": {},
   "source": [
    "## 1.2. Data"
   ]
  },
  {
   "cell_type": "code",
   "execution_count": 3,
   "id": "54afe267",
   "metadata": {},
   "outputs": [
    {
     "data": {
      "text/html": [
       "<div>\n",
       "<style scoped>\n",
       "    .dataframe tbody tr th:only-of-type {\n",
       "        vertical-align: middle;\n",
       "    }\n",
       "\n",
       "    .dataframe tbody tr th {\n",
       "        vertical-align: top;\n",
       "    }\n",
       "\n",
       "    .dataframe thead th {\n",
       "        text-align: right;\n",
       "    }\n",
       "</style>\n",
       "<table border=\"1\" class=\"dataframe\">\n",
       "  <thead>\n",
       "    <tr style=\"text-align: right;\">\n",
       "      <th></th>\n",
       "      <th>Id</th>\n",
       "      <th>Title</th>\n",
       "      <th>FullDescription</th>\n",
       "      <th>LocationRaw</th>\n",
       "      <th>LocationNormalized</th>\n",
       "      <th>ContractType</th>\n",
       "      <th>ContractTime</th>\n",
       "      <th>Company</th>\n",
       "      <th>Category</th>\n",
       "      <th>SalaryRaw</th>\n",
       "      <th>SalaryNormalized</th>\n",
       "      <th>SourceName</th>\n",
       "    </tr>\n",
       "  </thead>\n",
       "  <tbody>\n",
       "    <tr>\n",
       "      <th>0</th>\n",
       "      <td>12612628</td>\n",
       "      <td>Engineering Systems Analyst</td>\n",
       "      <td>Engineering Systems Analyst Dorking Surrey Sal...</td>\n",
       "      <td>Dorking, Surrey, Surrey</td>\n",
       "      <td>Dorking</td>\n",
       "      <td>NaN</td>\n",
       "      <td>permanent</td>\n",
       "      <td>Gregory Martin International</td>\n",
       "      <td>Engineering Jobs</td>\n",
       "      <td>20000 - 30000/annum 20-30K</td>\n",
       "      <td>25000</td>\n",
       "      <td>cv-library.co.uk</td>\n",
       "    </tr>\n",
       "    <tr>\n",
       "      <th>1</th>\n",
       "      <td>12612830</td>\n",
       "      <td>Stress Engineer Glasgow</td>\n",
       "      <td>Stress Engineer Glasgow Salary **** to **** We...</td>\n",
       "      <td>Glasgow, Scotland, Scotland</td>\n",
       "      <td>Glasgow</td>\n",
       "      <td>NaN</td>\n",
       "      <td>permanent</td>\n",
       "      <td>Gregory Martin International</td>\n",
       "      <td>Engineering Jobs</td>\n",
       "      <td>25000 - 35000/annum 25-35K</td>\n",
       "      <td>30000</td>\n",
       "      <td>cv-library.co.uk</td>\n",
       "    </tr>\n",
       "    <tr>\n",
       "      <th>2</th>\n",
       "      <td>12612844</td>\n",
       "      <td>Modelling and simulation analyst</td>\n",
       "      <td>Mathematical Modeller / Simulation Analyst / O...</td>\n",
       "      <td>Hampshire, South East, South East</td>\n",
       "      <td>Hampshire</td>\n",
       "      <td>NaN</td>\n",
       "      <td>permanent</td>\n",
       "      <td>Gregory Martin International</td>\n",
       "      <td>Engineering Jobs</td>\n",
       "      <td>20000 - 40000/annum 20-40K</td>\n",
       "      <td>30000</td>\n",
       "      <td>cv-library.co.uk</td>\n",
       "    </tr>\n",
       "    <tr>\n",
       "      <th>3</th>\n",
       "      <td>12613049</td>\n",
       "      <td>Engineering Systems Analyst / Mathematical Mod...</td>\n",
       "      <td>Engineering Systems Analyst / Mathematical Mod...</td>\n",
       "      <td>Surrey, South East, South East</td>\n",
       "      <td>Surrey</td>\n",
       "      <td>NaN</td>\n",
       "      <td>permanent</td>\n",
       "      <td>Gregory Martin International</td>\n",
       "      <td>Engineering Jobs</td>\n",
       "      <td>25000 - 30000/annum 25K-30K negotiable</td>\n",
       "      <td>27500</td>\n",
       "      <td>cv-library.co.uk</td>\n",
       "    </tr>\n",
       "    <tr>\n",
       "      <th>4</th>\n",
       "      <td>12613647</td>\n",
       "      <td>Pioneer, Miser Engineering Systems Analyst</td>\n",
       "      <td>Pioneer, Miser  Engineering Systems Analyst Do...</td>\n",
       "      <td>Surrey, South East, South East</td>\n",
       "      <td>Surrey</td>\n",
       "      <td>NaN</td>\n",
       "      <td>permanent</td>\n",
       "      <td>Gregory Martin International</td>\n",
       "      <td>Engineering Jobs</td>\n",
       "      <td>20000 - 30000/annum 20-30K</td>\n",
       "      <td>25000</td>\n",
       "      <td>cv-library.co.uk</td>\n",
       "    </tr>\n",
       "  </tbody>\n",
       "</table>\n",
       "</div>"
      ],
      "text/plain": [
       "         Id                                              Title                                    FullDescription                        LocationRaw LocationNormalized ContractType ContractTime                       Company          Category                               SalaryRaw  SalaryNormalized        SourceName\n",
       "0  12612628                        Engineering Systems Analyst  Engineering Systems Analyst Dorking Surrey Sal...            Dorking, Surrey, Surrey            Dorking          NaN    permanent  Gregory Martin International  Engineering Jobs              20000 - 30000/annum 20-30K             25000  cv-library.co.uk\n",
       "1  12612830                            Stress Engineer Glasgow  Stress Engineer Glasgow Salary **** to **** We...        Glasgow, Scotland, Scotland            Glasgow          NaN    permanent  Gregory Martin International  Engineering Jobs              25000 - 35000/annum 25-35K             30000  cv-library.co.uk\n",
       "2  12612844                   Modelling and simulation analyst  Mathematical Modeller / Simulation Analyst / O...  Hampshire, South East, South East          Hampshire          NaN    permanent  Gregory Martin International  Engineering Jobs              20000 - 40000/annum 20-40K             30000  cv-library.co.uk\n",
       "3  12613049  Engineering Systems Analyst / Mathematical Mod...  Engineering Systems Analyst / Mathematical Mod...     Surrey, South East, South East             Surrey          NaN    permanent  Gregory Martin International  Engineering Jobs  25000 - 30000/annum 25K-30K negotiable             27500  cv-library.co.uk\n",
       "4  12613647         Pioneer, Miser Engineering Systems Analyst  Pioneer, Miser  Engineering Systems Analyst Do...     Surrey, South East, South East             Surrey          NaN    permanent  Gregory Martin International  Engineering Jobs              20000 - 30000/annum 20-30K             25000  cv-library.co.uk"
      ]
     },
     "execution_count": 3,
     "metadata": {},
     "output_type": "execute_result"
    }
   ],
   "source": [
    "data_import = pd.read_csv('../data/Train_rev1.csv')\n",
    "\n",
    "data_import.head()"
   ]
  },
  {
   "cell_type": "markdown",
   "id": "2a566157",
   "metadata": {},
   "source": [
    "# 2.0. Data Description"
   ]
  },
  {
   "cell_type": "code",
   "execution_count": 4,
   "id": "cd3b7a68",
   "metadata": {},
   "outputs": [],
   "source": [
    "df2 = data_import.copy()"
   ]
  },
  {
   "cell_type": "markdown",
   "id": "6d9324cb",
   "metadata": {},
   "source": [
    "## 2.1. Shape Data"
   ]
  },
  {
   "cell_type": "code",
   "execution_count": 5,
   "id": "08328053",
   "metadata": {},
   "outputs": [
    {
     "name": "stdout",
     "output_type": "stream",
     "text": [
      "Rows: 244768\n",
      "Columns: 12\n"
     ]
    }
   ],
   "source": [
    "print(f'Rows: {df2.shape[0]}')\n",
    "print(f'Columns: {df2.shape[1]}')"
   ]
  },
  {
   "cell_type": "markdown",
   "id": "e172c5cf",
   "metadata": {},
   "source": [
    "## 2.2. Data Types"
   ]
  },
  {
   "cell_type": "code",
   "execution_count": 6,
   "id": "c254ee69",
   "metadata": {},
   "outputs": [
    {
     "data": {
      "text/plain": [
       "Id                     int64\n",
       "Title                 object\n",
       "FullDescription       object\n",
       "LocationRaw           object\n",
       "LocationNormalized    object\n",
       "ContractType          object\n",
       "ContractTime          object\n",
       "Company               object\n",
       "Category              object\n",
       "SalaryRaw             object\n",
       "SalaryNormalized       int64\n",
       "SourceName            object\n",
       "dtype: object"
      ]
     },
     "execution_count": 6,
     "metadata": {},
     "output_type": "execute_result"
    }
   ],
   "source": [
    "df2.dtypes"
   ]
  },
  {
   "cell_type": "markdown",
   "id": "e57172a1",
   "metadata": {},
   "source": [
    "## 2.3. Check Na\n"
   ]
  },
  {
   "cell_type": "code",
   "execution_count": 7,
   "id": "8e35dea4",
   "metadata": {},
   "outputs": [
    {
     "data": {
      "text/html": [
       "<div>\n",
       "<style scoped>\n",
       "    .dataframe tbody tr th:only-of-type {\n",
       "        vertical-align: middle;\n",
       "    }\n",
       "\n",
       "    .dataframe tbody tr th {\n",
       "        vertical-align: top;\n",
       "    }\n",
       "\n",
       "    .dataframe thead th {\n",
       "        text-align: right;\n",
       "    }\n",
       "</style>\n",
       "<table border=\"1\" class=\"dataframe\">\n",
       "  <thead>\n",
       "    <tr style=\"text-align: right;\">\n",
       "      <th></th>\n",
       "      <th>Total</th>\n",
       "      <th>Percentual</th>\n",
       "    </tr>\n",
       "  </thead>\n",
       "  <tbody>\n",
       "    <tr>\n",
       "      <th>Id</th>\n",
       "      <td>0.0</td>\n",
       "      <td>0.00</td>\n",
       "    </tr>\n",
       "    <tr>\n",
       "      <th>Title</th>\n",
       "      <td>1.0</td>\n",
       "      <td>0.00</td>\n",
       "    </tr>\n",
       "    <tr>\n",
       "      <th>FullDescription</th>\n",
       "      <td>0.0</td>\n",
       "      <td>0.00</td>\n",
       "    </tr>\n",
       "    <tr>\n",
       "      <th>LocationRaw</th>\n",
       "      <td>0.0</td>\n",
       "      <td>0.00</td>\n",
       "    </tr>\n",
       "    <tr>\n",
       "      <th>LocationNormalized</th>\n",
       "      <td>0.0</td>\n",
       "      <td>0.00</td>\n",
       "    </tr>\n",
       "    <tr>\n",
       "      <th>ContractType</th>\n",
       "      <td>179326.0</td>\n",
       "      <td>73.26</td>\n",
       "    </tr>\n",
       "    <tr>\n",
       "      <th>ContractTime</th>\n",
       "      <td>63905.0</td>\n",
       "      <td>26.11</td>\n",
       "    </tr>\n",
       "    <tr>\n",
       "      <th>Company</th>\n",
       "      <td>32430.0</td>\n",
       "      <td>13.25</td>\n",
       "    </tr>\n",
       "    <tr>\n",
       "      <th>Category</th>\n",
       "      <td>0.0</td>\n",
       "      <td>0.00</td>\n",
       "    </tr>\n",
       "    <tr>\n",
       "      <th>SalaryRaw</th>\n",
       "      <td>0.0</td>\n",
       "      <td>0.00</td>\n",
       "    </tr>\n",
       "    <tr>\n",
       "      <th>SalaryNormalized</th>\n",
       "      <td>0.0</td>\n",
       "      <td>0.00</td>\n",
       "    </tr>\n",
       "    <tr>\n",
       "      <th>SourceName</th>\n",
       "      <td>1.0</td>\n",
       "      <td>0.00</td>\n",
       "    </tr>\n",
       "  </tbody>\n",
       "</table>\n",
       "</div>"
      ],
      "text/plain": [
       "                       Total  Percentual\n",
       "Id                       0.0        0.00\n",
       "Title                    1.0        0.00\n",
       "FullDescription          0.0        0.00\n",
       "LocationRaw              0.0        0.00\n",
       "LocationNormalized       0.0        0.00\n",
       "ContractType        179326.0       73.26\n",
       "ContractTime         63905.0       26.11\n",
       "Company              32430.0       13.25\n",
       "Category                 0.0        0.00\n",
       "SalaryRaw                0.0        0.00\n",
       "SalaryNormalized         0.0        0.00\n",
       "SourceName               1.0        0.00"
      ]
     },
     "execution_count": 7,
     "metadata": {},
     "output_type": "execute_result"
    }
   ],
   "source": [
    "tot_na = df2.isnull().sum()\n",
    "percentage_na = round(df2.isnull().mean(), 4) * 100\n",
    "\n",
    "# dataframe of na\n",
    "pd.DataFrame([tot_na, percentage_na], index=['Total', 'Percentual']).T"
   ]
  },
  {
   "cell_type": "markdown",
   "id": "5fcd9a1a",
   "metadata": {},
   "source": [
    "## 2.4. Pre-Analysis"
   ]
  },
  {
   "cell_type": "code",
   "execution_count": 8,
   "id": "7544744d",
   "metadata": {},
   "outputs": [
    {
     "data": {
      "image/png": "[encoded data removed]",
      "text/plain": [
       "<Figure size 1728x648 with 2 Axes>"
      ]
     },
     "metadata": {},
     "output_type": "display_data"
    }
   ],
   "source": [
    "# Plotando colunas com poucos valores\n",
    "columns = ['ContractType', 'ContractTime']\n",
    "\n",
    "fig, ax = plt.subplots(1, 2)\n",
    "\n",
    "for i, val in enumerate(columns):\n",
    "    sns.countplot(y = df2[val].astype('str'), color='#548CFF', ax=ax[i])\n",
    "    plt.title(val)"
   ]
  },
  {
   "cell_type": "markdown",
   "id": "48c618a6",
   "metadata": {},
   "source": [
    "### 2.4.1. ContractType"
   ]
  },
  {
   "cell_type": "code",
   "execution_count": 9,
   "id": "d9146a4a",
   "metadata": {},
   "outputs": [
    {
     "data": {
      "image/png": "[encoded data removed]",
      "text/plain": [
       "<Figure size 1728x648 with 3 Axes>"
      ]
     },
     "metadata": {},
     "output_type": "display_data"
    }
   ],
   "source": [
    "contract_null = df2.loc[df2['ContractType'].isnull(), 'SalaryNormalized']\n",
    "contract_full = df2.loc[df2['ContractType'] == 'full_time', 'SalaryNormalized']            \n",
    "contract_part = df2.loc[df2['ContractType'] == 'part_time', 'SalaryNormalized']      \n",
    "\n",
    "\n",
    "\n",
    "fig, ax = plt.subplots(3, 1)\n",
    "\n",
    "sns.boxplot(x=contract_null, ax=ax[0])\n",
    "\n",
    "sns.boxplot(x=contract_full, ax=ax[1])\n",
    "\n",
    "sns.boxplot(x=contract_part, ax=ax[2])\n",
    "\n",
    "fig.tight_layout()"
   ]
  },
  {
   "cell_type": "markdown",
   "id": "36f2843b",
   "metadata": {},
   "source": [
    "### 2.4.2. ContractTime"
   ]
  },
  {
   "cell_type": "code",
   "execution_count": 10,
   "id": "2e19cbed",
   "metadata": {},
   "outputs": [
    {
     "data": {
      "image/png": "[encoded data removed]",
      "text/plain": [
       "<Figure size 1728x648 with 3 Axes>"
      ]
     },
     "metadata": {},
     "output_type": "display_data"
    }
   ],
   "source": [
    "null = df2.loc[df2['ContractTime'].isnull(), 'SalaryNormalized']\n",
    "contract = df2.loc[df2['ContractTime'] == 'contract', 'SalaryNormalized']            \n",
    "permanent =  df2.loc[df2['ContractTime'] == 'permanent', 'SalaryNormalized']      \n",
    "\n",
    "\n",
    "\n",
    "fig, ax = plt.subplots(3, 1)\n",
    "\n",
    "sns.boxplot(x=null, ax=ax[0])\n",
    "sns.boxplot(x=contract, ax=ax[1])\n",
    "sns.boxplot(x=permanent, ax=ax[2])\n",
    "\n",
    "fig.tight_layout()"
   ]
  },
  {
   "cell_type": "markdown",
   "id": "7c8161c1",
   "metadata": {},
   "source": [
    "# 3.0. Variable Filtering + Split"
   ]
  },
  {
   "cell_type": "code",
   "execution_count": 523,
   "id": "49bec6a3",
   "metadata": {},
   "outputs": [],
   "source": [
    "df3 = df2.copy()"
   ]
  },
  {
   "cell_type": "code",
   "execution_count": 524,
   "id": "3f16d016",
   "metadata": {},
   "outputs": [],
   "source": [
    "df3.drop(['Id', 'LocationRaw', 'SalaryRaw', 'FullDescription', 'SourceName', 'Company', 'LocationNormalized'], axis=1, inplace=True)\n",
    "df3.dropna(subset=['Title'], axis=0, inplace=True)"
   ]
  },
  {
   "cell_type": "markdown",
   "id": "445d8283",
   "metadata": {},
   "source": [
    "## 3.1. Split Dataset"
   ]
  },
  {
   "cell_type": "code",
   "execution_count": 525,
   "id": "9c7de197",
   "metadata": {},
   "outputs": [],
   "source": [
    "y = df3.loc[:, 'SalaryNormalized']\n",
    "X = df3.drop('SalaryNormalized', axis=1)\n",
    "\n",
    "X_train, X_test, y_train, y_test = train_test_split(X, y, test_size=0.2, random_state=42)"
   ]
  },
  {
   "cell_type": "markdown",
   "id": "72f6ee7e",
   "metadata": {},
   "source": [
    "# 4.0. Feature Engineering"
   ]
  },
  {
   "cell_type": "markdown",
   "id": "28e3d2e6",
   "metadata": {},
   "source": [
    "## 4.1. Title"
   ]
  },
  {
   "cell_type": "code",
   "execution_count": 526,
   "id": "1ae5599b",
   "metadata": {},
   "outputs": [],
   "source": [
    "# list de stop_words\n",
    "stop_words = stopwords.words(\"english\")\n",
    "\n",
    "# instanciando o lemmatizer\n",
    "lemmatizer = WordNetLemmatizer()"
   ]
  },
  {
   "cell_type": "code",
   "execution_count": 527,
   "id": "2eaab57c",
   "metadata": {},
   "outputs": [],
   "source": [
    "# tokenizando a coluna title\n",
    "X_train['Title'] = X_train['Title'].apply(lambda x: tokenize(x))"
   ]
  },
  {
   "cell_type": "code",
   "execution_count": 528,
   "id": "63ca1fe3",
   "metadata": {},
   "outputs": [
    {
     "data": {
      "text/html": [
       "<div>\n",
       "<style scoped>\n",
       "    .dataframe tbody tr th:only-of-type {\n",
       "        vertical-align: middle;\n",
       "    }\n",
       "\n",
       "    .dataframe tbody tr th {\n",
       "        vertical-align: top;\n",
       "    }\n",
       "\n",
       "    .dataframe thead th {\n",
       "        text-align: right;\n",
       "    }\n",
       "</style>\n",
       "<table border=\"1\" class=\"dataframe\">\n",
       "  <thead>\n",
       "    <tr style=\"text-align: right;\">\n",
       "      <th></th>\n",
       "      <th>Value</th>\n",
       "      <th>Count</th>\n",
       "      <th>Percentage</th>\n",
       "    </tr>\n",
       "  </thead>\n",
       "  <tbody>\n",
       "    <tr>\n",
       "      <th>0</th>\n",
       "      <td>manager</td>\n",
       "      <td>40542</td>\n",
       "      <td>20.70</td>\n",
       "    </tr>\n",
       "    <tr>\n",
       "      <th>1</th>\n",
       "      <td>engineer</td>\n",
       "      <td>19898</td>\n",
       "      <td>10.16</td>\n",
       "    </tr>\n",
       "    <tr>\n",
       "      <th>2</th>\n",
       "      <td>sale</td>\n",
       "      <td>15828</td>\n",
       "      <td>8.08</td>\n",
       "    </tr>\n",
       "    <tr>\n",
       "      <th>3</th>\n",
       "      <td>senior</td>\n",
       "      <td>13479</td>\n",
       "      <td>6.88</td>\n",
       "    </tr>\n",
       "    <tr>\n",
       "      <th>4</th>\n",
       "      <td>developer</td>\n",
       "      <td>11457</td>\n",
       "      <td>5.85</td>\n",
       "    </tr>\n",
       "  </tbody>\n",
       "</table>\n",
       "</div>"
      ],
      "text/plain": [
       "       Value  Count  Percentage\n",
       "0    manager  40542       20.70\n",
       "1   engineer  19898       10.16\n",
       "2       sale  15828        8.08\n",
       "3     senior  13479        6.88\n",
       "4  developer  11457        5.85"
      ]
     },
     "execution_count": 528,
     "metadata": {},
     "output_type": "execute_result"
    }
   ],
   "source": [
    "# dafatrame com a contagem e porcentagem de palavras na coluna title\n",
    "df_word_count = count_list_series(X_train, 'Title', only_values=False)\n",
    "\n",
    "df_word_count.head()"
   ]
  },
  {
   "cell_type": "code",
   "execution_count": 529,
   "id": "bb517b8c",
   "metadata": {},
   "outputs": [],
   "source": [
    "# juntando x e y para fazer a correlacao\n",
    "#df_aux = pd.merge(X_train, y_train, right_index=True, left_index=True)\n",
    "\n",
    "# list_words\n",
    "#list_words = df_word_count['Value'].to_list()\n",
    "\n",
    "# Criando o dataframe com as correlacoes atraves do ponto bisserial\n",
    "#df_corr = corr_words(df_aux, 'Title', 'SalaryNormalized', list_words)\n",
    "\n",
    "# salvando em csv\n",
    "#df_corr.to_csv('../data/corr_title.csv')"
   ]
  },
  {
   "cell_type": "code",
   "execution_count": 530,
   "id": "b49e659a",
   "metadata": {},
   "outputs": [
    {
     "name": "stderr",
     "output_type": "stream",
     "text": [
      "/tmp/ipykernel_22190/3993504408.py:12: PerformanceWarning: DataFrame is highly fragmented.  This is usually the result of calling `frame.insert` many times, which has poor performance.  Consider joining all columns at once using pd.concat(axis=1) instead.  To get a de-fragmented frame, use `newframe = frame.copy()`\n",
      "  X_train[value] = X_train['Title'].apply(lambda x: 1 if value in x else 0)\n"
     ]
    }
   ],
   "source": [
    "# importando o dataset com as correlacoes\n",
    "df_corr = pd.read_csv('../data/corr_title.csv', index_col=0).sort_values(by='Corr', ascending=False)\n",
    "\n",
    "# transformando as correlacoes em valores absolutos\n",
    "df_corr['Corr'] = df_corr['Corr'].apply(lambda x: abs(x))\n",
    "\n",
    "# Colunas que serao usadas\n",
    "cols = df_corr.loc[df_corr['Corr'] > 0.02, :].index.to_list()\n",
    "\n",
    "# imputando as colunas\n",
    "for value in cols:\n",
    "    X_train[value] = X_train['Title'].apply(lambda x: 1 if value in x else 0)\n",
    "    \n",
    "# dropando title\n",
    "X_train = X_train.drop('Title', axis=1)"
   ]
  },
  {
   "cell_type": "markdown",
   "id": "597c395a",
   "metadata": {},
   "source": [
    "# 5.0. Exploratory Data Analysis"
   ]
  },
  {
   "cell_type": "markdown",
   "id": "548f1393",
   "metadata": {},
   "source": [
    "# 6.0. Data Preparation"
   ]
  },
  {
   "cell_type": "code",
   "execution_count": 531,
   "id": "646eaba6",
   "metadata": {},
   "outputs": [],
   "source": [
    "X_train_6 = X_train.copy()"
   ]
  },
  {
   "cell_type": "markdown",
   "id": "1a84dc93",
   "metadata": {},
   "source": [
    "## 6.1. NA Values"
   ]
  },
  {
   "cell_type": "code",
   "execution_count": 532,
   "id": "34928b06",
   "metadata": {},
   "outputs": [],
   "source": [
    "X_train_6.loc[X_train['ContractType'].isnull(), 'ContractType'] = 'null'\n",
    "X_train_6.loc[X_train['ContractTime'].isnull(), 'ContractTime'] = 'null'"
   ]
  },
  {
   "cell_type": "markdown",
   "id": "4c17be0e",
   "metadata": {},
   "source": [
    "## 6.2. Categorical"
   ]
  },
  {
   "cell_type": "markdown",
   "id": "2ea356fe",
   "metadata": {},
   "source": [
    "### 6.3.1. One Hot Encoder"
   ]
  },
  {
   "cell_type": "code",
   "execution_count": 533,
   "id": "bcee9b72",
   "metadata": {},
   "outputs": [],
   "source": [
    "trf2 = ColumnTransformer(transformers =[\n",
    "    ('enc', OneHotEncoder(sparse = False, drop ='first'), list(range(3))),\n",
    "], remainder ='passthrough')"
   ]
  },
  {
   "cell_type": "code",
   "execution_count": 534,
   "id": "6c638cb4",
   "metadata": {},
   "outputs": [],
   "source": [
    "X_train_6 = pd.DataFrame(trf2.fit_transform(X_train_6))"
   ]
  },
  {
   "cell_type": "markdown",
   "id": "c97c2bd1",
   "metadata": {},
   "source": [
    "# 7.0. Feature Selection"
   ]
  },
  {
   "cell_type": "markdown",
   "id": "8cbad83f",
   "metadata": {},
   "source": [
    "# 8.0. Machine Learning Pipeline"
   ]
  },
  {
   "cell_type": "markdown",
   "id": "32268276",
   "metadata": {},
   "source": [
    "## 8.1. Baseline - Mean"
   ]
  },
  {
   "cell_type": "code",
   "execution_count": 535,
   "id": "0fee8410",
   "metadata": {},
   "outputs": [],
   "source": [
    "base = baseline_performance(y_train, 5)"
   ]
  },
  {
   "cell_type": "markdown",
   "id": "1eb6b2bc",
   "metadata": {},
   "source": [
    "## 8.2. Linear Regression"
   ]
  },
  {
   "cell_type": "code",
   "execution_count": 536,
   "id": "76d3e735",
   "metadata": {},
   "outputs": [],
   "source": [
    "lr = LinearRegression()\n",
    "\n",
    "lr_model = cross_val_performance(X_train_6, y_train, cv=5, model=lr)"
   ]
  },
  {
   "cell_type": "code",
   "execution_count": 537,
   "id": "ce959576",
   "metadata": {},
   "outputs": [
    {
     "data": {
      "text/html": [
       "<div>\n",
       "<style scoped>\n",
       "    .dataframe tbody tr th:only-of-type {\n",
       "        vertical-align: middle;\n",
       "    }\n",
       "\n",
       "    .dataframe tbody tr th {\n",
       "        vertical-align: top;\n",
       "    }\n",
       "\n",
       "    .dataframe thead th {\n",
       "        text-align: right;\n",
       "    }\n",
       "</style>\n",
       "<table border=\"1\" class=\"dataframe\">\n",
       "  <thead>\n",
       "    <tr style=\"text-align: right;\">\n",
       "      <th></th>\n",
       "      <th>Modelo</th>\n",
       "      <th>MAE</th>\n",
       "      <th>MAPE</th>\n",
       "      <th>RMSE</th>\n",
       "      <th>time</th>\n",
       "    </tr>\n",
       "  </thead>\n",
       "  <tbody>\n",
       "    <tr>\n",
       "      <th>0</th>\n",
       "      <td>LinearRegression</td>\n",
       "      <td>8827.11</td>\n",
       "      <td>0.2952</td>\n",
       "      <td>12541.95</td>\n",
       "      <td>11.45</td>\n",
       "    </tr>\n",
       "  </tbody>\n",
       "</table>\n",
       "</div>"
      ],
      "text/plain": [
       "             Modelo      MAE    MAPE      RMSE   time\n",
       "0  LinearRegression  8827.11  0.2952  12541.95  11.45"
      ]
     },
     "execution_count": 537,
     "metadata": {},
     "output_type": "execute_result"
    }
   ],
   "source": [
    "lr_model"
   ]
  },
  {
   "cell_type": "markdown",
   "id": "9b189660",
   "metadata": {},
   "source": [
    "## 8.3. DecisionTreeRegressor"
   ]
  },
  {
   "cell_type": "code",
   "execution_count": 538,
   "id": "73b56b8c",
   "metadata": {},
   "outputs": [],
   "source": [
    "dtr = DecisionTreeRegressor()\n",
    "\n",
    "dtr_model = cross_val_performance(X_train_6, y_train, cv=5, model=dtr)"
   ]
  },
  {
   "cell_type": "code",
   "execution_count": 539,
   "id": "842d78bf",
   "metadata": {},
   "outputs": [
    {
     "data": {
      "text/html": [
       "<div>\n",
       "<style scoped>\n",
       "    .dataframe tbody tr th:only-of-type {\n",
       "        vertical-align: middle;\n",
       "    }\n",
       "\n",
       "    .dataframe tbody tr th {\n",
       "        vertical-align: top;\n",
       "    }\n",
       "\n",
       "    .dataframe thead th {\n",
       "        text-align: right;\n",
       "    }\n",
       "</style>\n",
       "<table border=\"1\" class=\"dataframe\">\n",
       "  <thead>\n",
       "    <tr style=\"text-align: right;\">\n",
       "      <th></th>\n",
       "      <th>Modelo</th>\n",
       "      <th>MAE</th>\n",
       "      <th>MAPE</th>\n",
       "      <th>RMSE</th>\n",
       "      <th>time</th>\n",
       "    </tr>\n",
       "  </thead>\n",
       "  <tbody>\n",
       "    <tr>\n",
       "      <th>0</th>\n",
       "      <td>DecisionTreeRegressor</td>\n",
       "      <td>7795.13</td>\n",
       "      <td>0.2466</td>\n",
       "      <td>12496.88</td>\n",
       "      <td>24.17</td>\n",
       "    </tr>\n",
       "  </tbody>\n",
       "</table>\n",
       "</div>"
      ],
      "text/plain": [
       "                  Modelo      MAE    MAPE      RMSE   time\n",
       "0  DecisionTreeRegressor  7795.13  0.2466  12496.88  24.17"
      ]
     },
     "execution_count": 539,
     "metadata": {},
     "output_type": "execute_result"
    }
   ],
   "source": [
    "dtr_model"
   ]
  },
  {
   "cell_type": "markdown",
   "id": "7fb36100",
   "metadata": {},
   "source": [
    "## 8.4. Comparance"
   ]
  },
  {
   "cell_type": "code",
   "execution_count": 540,
   "id": "13329a97",
   "metadata": {},
   "outputs": [
    {
     "data": {
      "text/html": [
       "<div>\n",
       "<style scoped>\n",
       "    .dataframe tbody tr th:only-of-type {\n",
       "        vertical-align: middle;\n",
       "    }\n",
       "\n",
       "    .dataframe tbody tr th {\n",
       "        vertical-align: top;\n",
       "    }\n",
       "\n",
       "    .dataframe thead th {\n",
       "        text-align: right;\n",
       "    }\n",
       "</style>\n",
       "<table border=\"1\" class=\"dataframe\">\n",
       "  <thead>\n",
       "    <tr style=\"text-align: right;\">\n",
       "      <th></th>\n",
       "      <th>Modelo</th>\n",
       "      <th>MAE</th>\n",
       "      <th>MAPE</th>\n",
       "      <th>RMSE</th>\n",
       "      <th>time</th>\n",
       "    </tr>\n",
       "  </thead>\n",
       "  <tbody>\n",
       "    <tr>\n",
       "      <th>0</th>\n",
       "      <td>DecisionTreeRegressor</td>\n",
       "      <td>7795.130</td>\n",
       "      <td>0.2466</td>\n",
       "      <td>12496.880</td>\n",
       "      <td>24.17</td>\n",
       "    </tr>\n",
       "    <tr>\n",
       "      <th>1</th>\n",
       "      <td>LinearRegression</td>\n",
       "      <td>8827.110</td>\n",
       "      <td>0.2952</td>\n",
       "      <td>12541.950</td>\n",
       "      <td>11.45</td>\n",
       "    </tr>\n",
       "    <tr>\n",
       "      <th>2</th>\n",
       "      <td>Baseline</td>\n",
       "      <td>13404.349</td>\n",
       "      <td>0.4940</td>\n",
       "      <td>17641.462</td>\n",
       "      <td>0.00</td>\n",
       "    </tr>\n",
       "  </tbody>\n",
       "</table>\n",
       "</div>"
      ],
      "text/plain": [
       "                  Modelo        MAE    MAPE       RMSE   time\n",
       "0  DecisionTreeRegressor   7795.130  0.2466  12496.880  24.17\n",
       "1       LinearRegression   8827.110  0.2952  12541.950  11.45\n",
       "2               Baseline  13404.349  0.4940  17641.462   0.00"
      ]
     },
     "execution_count": 540,
     "metadata": {},
     "output_type": "execute_result"
    }
   ],
   "source": [
    "cross_performance = pd.concat([base, lr_model, dtr_model]).sort_values(by='MAE').reset_index(drop=True)\n",
    "\n",
    "cross_performance"
   ]
  },
  {
   "cell_type": "code",
   "execution_count": 541,
   "id": "d87e1088",
   "metadata": {},
   "outputs": [],
   "source": [
    "# save performance\n",
    "cross_performance.to_csv('../data/cross_performance_c02.csv')"
   ]
  },
  {
   "cell_type": "markdown",
   "id": "610a9447",
   "metadata": {},
   "source": [
    "# 9.0. Performance - Test Data"
   ]
  },
  {
   "cell_type": "code",
   "execution_count": 542,
   "id": "d0024694",
   "metadata": {},
   "outputs": [
    {
     "name": "stderr",
     "output_type": "stream",
     "text": [
      "/tmp/ipykernel_22190/1741058283.py:6: PerformanceWarning: DataFrame is highly fragmented.  This is usually the result of calling `frame.insert` many times, which has poor performance.  Consider joining all columns at once using pd.concat(axis=1) instead.  To get a de-fragmented frame, use `newframe = frame.copy()`\n",
      "  X_test[value] = X_test['Title'].apply(lambda x: 1 if value in x else 0)\n"
     ]
    }
   ],
   "source": [
    "# Tokenizando\n",
    "X_test['Title'] = X_test['Title'].apply(lambda x: tokenize(x))\n",
    "\n",
    "# Transformando os tokens\n",
    "for value in cols:\n",
    "    X_test[value] = X_test['Title'].apply(lambda x: 1 if value in x else 0)\n",
    "\n",
    "X_test = X_test.drop('Title', axis=1)\n",
    "\n",
    "# Filtrando null values\n",
    "X_test.loc[X_test['ContractType'].isnull(), 'ContractType'] = 'null'\n",
    "X_test.loc[X_test['ContractTime'].isnull(), 'ContractTime'] = 'null'\n",
    "\n",
    "# Transformando as colunas em binarias\n",
    "trf2 = ColumnTransformer(transformers =[\n",
    "    ('enc', OneHotEncoder(sparse = False, drop ='first'), list(range(3))),\n",
    "], remainder ='passthrough')\n",
    "\n",
    "X_test = pd.DataFrame(trf2.fit_transform(X_test))"
   ]
  },
  {
   "cell_type": "code",
   "execution_count": 543,
   "id": "7dfbbd6b",
   "metadata": {},
   "outputs": [],
   "source": [
    "dtr = DecisionTreeRegressor()\n",
    "\n",
    "dtr.fit(X_train_6, y_train)\n",
    "\n",
    "y_hat = dtr.predict(X_test)"
   ]
  },
  {
   "cell_type": "code",
   "execution_count": 544,
   "id": "0aeb4ae4",
   "metadata": {},
   "outputs": [
    {
     "data": {
      "text/plain": [
       "7611.210705536943"
      ]
     },
     "execution_count": 544,
     "metadata": {},
     "output_type": "execute_result"
    }
   ],
   "source": [
    "mean_absolute_error(y_test, y_hat)"
   ]
  },
  {
   "cell_type": "markdown",
   "id": "5a3a1587",
   "metadata": {},
   "source": [
    "# 10.0. Deploy"
   ]
  }
 ],
 "metadata": {
  "kernelspec": {
   "display_name": "Python 3 (ipykernel)",
   "language": "python",
   "name": "python3"
  },
  "language_info": {
   "codemirror_mode": {
    "name": "ipython",
    "version": 3
   },
   "file_extension": ".py",
   "mimetype": "text/x-python",
   "name": "python",
   "nbconvert_exporter": "python",
   "pygments_lexer": "ipython3",
   "version": "3.9.8"
  }
 },
 "nbformat": 4,
 "nbformat_minor": 5
}
