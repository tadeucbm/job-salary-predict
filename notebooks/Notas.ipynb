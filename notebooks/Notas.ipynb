{
 "cells": [
  {
   "cell_type": "code",
   "execution_count": 2,
   "id": "9afff967",
   "metadata": {},
   "outputs": [],
   "source": [
    "import pandas as pd"
   ]
  },
  {
   "cell_type": "markdown",
   "id": "b28bad49",
   "metadata": {},
   "source": [
    "# Ciclo 1"
   ]
  },
  {
   "cell_type": "markdown",
   "id": "9507c71e",
   "metadata": {},
   "source": [
    "Ciclo simples, o objetivo foi criar uma baseline e ver como o modelo desempenharia \\\n",
    "com poucas colunas."
   ]
  },
  {
   "cell_type": "markdown",
   "id": "21521422",
   "metadata": {},
   "source": [
    "## Premissas:\n"
   ]
  },
  {
   "cell_type": "markdown",
   "id": "a5233977",
   "metadata": {},
   "source": [
    "* Trocando todos os valores de NA por null;\n",
    "* Sem feature engineering;\n",
    "* Sem Otimizacao."
   ]
  },
  {
   "cell_type": "markdown",
   "id": "c2071a65",
   "metadata": {},
   "source": [
    "## Desempenho:"
   ]
  },
  {
   "cell_type": "markdown",
   "id": "7a25ebec",
   "metadata": {},
   "source": [
    "Neste primeiro ciclo, o modelo de DecisionTree foi o que melhor uniu tempo de treino \\\n",
    "com desempenho."
   ]
  },
  {
   "cell_type": "code",
   "execution_count": 3,
   "id": "48e6a16e",
   "metadata": {},
   "outputs": [
    {
     "data": {
      "text/html": [
       "<div>\n",
       "<style scoped>\n",
       "    .dataframe tbody tr th:only-of-type {\n",
       "        vertical-align: middle;\n",
       "    }\n",
       "\n",
       "    .dataframe tbody tr th {\n",
       "        vertical-align: top;\n",
       "    }\n",
       "\n",
       "    .dataframe thead th {\n",
       "        text-align: right;\n",
       "    }\n",
       "</style>\n",
       "<table border=\"1\" class=\"dataframe\">\n",
       "  <thead>\n",
       "    <tr style=\"text-align: right;\">\n",
       "      <th></th>\n",
       "      <th>Modelo</th>\n",
       "      <th>MAE</th>\n",
       "      <th>MAPE</th>\n",
       "      <th>RMSE</th>\n",
       "      <th>time</th>\n",
       "    </tr>\n",
       "  </thead>\n",
       "  <tbody>\n",
       "    <tr>\n",
       "      <th>0</th>\n",
       "      <td>DecisionTreeRegressor</td>\n",
       "      <td>11123.910</td>\n",
       "      <td>0.3857</td>\n",
       "      <td>15360.100</td>\n",
       "      <td>0.80</td>\n",
       "    </tr>\n",
       "    <tr>\n",
       "      <th>1</th>\n",
       "      <td>RandomForestRegressor</td>\n",
       "      <td>11124.340</td>\n",
       "      <td>0.3857</td>\n",
       "      <td>15360.060</td>\n",
       "      <td>33.64</td>\n",
       "    </tr>\n",
       "    <tr>\n",
       "      <th>2</th>\n",
       "      <td>XGBRegressor</td>\n",
       "      <td>11148.600</td>\n",
       "      <td>0.3868</td>\n",
       "      <td>15382.060</td>\n",
       "      <td>15.74</td>\n",
       "    </tr>\n",
       "    <tr>\n",
       "      <th>3</th>\n",
       "      <td>LinearRegression</td>\n",
       "      <td>11970.390</td>\n",
       "      <td>0.4198</td>\n",
       "      <td>16153.800</td>\n",
       "      <td>0.44</td>\n",
       "    </tr>\n",
       "    <tr>\n",
       "      <th>4</th>\n",
       "      <td>Baseline</td>\n",
       "      <td>13402.185</td>\n",
       "      <td>0.4940</td>\n",
       "      <td>17641.151</td>\n",
       "      <td>0.00</td>\n",
       "    </tr>\n",
       "  </tbody>\n",
       "</table>\n",
       "</div>"
      ],
      "text/plain": [
       "                  Modelo        MAE    MAPE       RMSE   time\n",
       "0  DecisionTreeRegressor  11123.910  0.3857  15360.100   0.80\n",
       "1  RandomForestRegressor  11124.340  0.3857  15360.060  33.64\n",
       "2           XGBRegressor  11148.600  0.3868  15382.060  15.74\n",
       "3       LinearRegression  11970.390  0.4198  16153.800   0.44\n",
       "4               Baseline  13402.185  0.4940  17641.151   0.00"
      ]
     },
     "execution_count": 3,
     "metadata": {},
     "output_type": "execute_result"
    }
   ],
   "source": [
    "c01 = pd.read_csv('../data/cross_performance_c00.csv', index_col=0)\n",
    "c01"
   ]
  },
  {
   "cell_type": "markdown",
   "id": "f63ec597",
   "metadata": {},
   "source": [
    "# Ciclo 2 - Feature Engineering -> Title"
   ]
  },
  {
   "attachments": {
    "image.png": {
     "image/png": "[encoded data removed]"
    }
   },
   "cell_type": "markdown",
   "id": "2cd57d17",
   "metadata": {},
   "source": [
    "## Premissas:\n",
    "* A coluna title foi tokenizada. Após isso, a frequencia de cada string foi coletada;\n",
    "* Calculei a correlação de cada palavra com a variável resposta - SalaryNormalized - \\\n",
    "através do método ponto bisserial. Essa formula calcula a correlação entre uma variável \\\n",
    "binaria e outra continua:\n",
    "![image.png](attachment:image.png)\n",
    "* Os valores demonstraram baixa correlação. Selecionei apenas os valores com correlação \\\n",
    "superior a 0.02\n",
    "* **Modelos**:\n",
    "    * Como a DecisionTreeRegressor vem performando muito bem, com um tempo de treino inferior,\\\n",
    "    optei por excluir os modelos de Bagging e Boosting, pois estavam demandando muito \\\n",
    "    processamento com baixo ganho de performance."
   ]
  },
  {
   "cell_type": "markdown",
   "id": "106fd5cf",
   "metadata": {},
   "source": [
    "## Desempenho:\n",
    "O Desempenho no ciclo 2 aumentou consideravelmente. Mas a complexidade do modelo também. \\\n",
    "No terceiro ciclo irei buscar novas features e tentar manter a complexidade baixa."
   ]
  },
  {
   "cell_type": "code",
   "execution_count": 4,
   "id": "15503ee6",
   "metadata": {},
   "outputs": [
    {
     "data": {
      "text/html": [
       "<div>\n",
       "<style scoped>\n",
       "    .dataframe tbody tr th:only-of-type {\n",
       "        vertical-align: middle;\n",
       "    }\n",
       "\n",
       "    .dataframe tbody tr th {\n",
       "        vertical-align: top;\n",
       "    }\n",
       "\n",
       "    .dataframe thead th {\n",
       "        text-align: right;\n",
       "    }\n",
       "</style>\n",
       "<table border=\"1\" class=\"dataframe\">\n",
       "  <thead>\n",
       "    <tr style=\"text-align: right;\">\n",
       "      <th></th>\n",
       "      <th>Modelo</th>\n",
       "      <th>MAE</th>\n",
       "      <th>MAPE</th>\n",
       "      <th>RMSE</th>\n",
       "      <th>time</th>\n",
       "    </tr>\n",
       "  </thead>\n",
       "  <tbody>\n",
       "    <tr>\n",
       "      <th>0</th>\n",
       "      <td>DecisionTreeRegressor</td>\n",
       "      <td>7795.130</td>\n",
       "      <td>0.2466</td>\n",
       "      <td>12496.880</td>\n",
       "      <td>24.17</td>\n",
       "    </tr>\n",
       "    <tr>\n",
       "      <th>1</th>\n",
       "      <td>LinearRegression</td>\n",
       "      <td>8827.110</td>\n",
       "      <td>0.2952</td>\n",
       "      <td>12541.950</td>\n",
       "      <td>11.45</td>\n",
       "    </tr>\n",
       "    <tr>\n",
       "      <th>2</th>\n",
       "      <td>Baseline</td>\n",
       "      <td>13404.349</td>\n",
       "      <td>0.4940</td>\n",
       "      <td>17641.462</td>\n",
       "      <td>0.00</td>\n",
       "    </tr>\n",
       "  </tbody>\n",
       "</table>\n",
       "</div>"
      ],
      "text/plain": [
       "                  Modelo        MAE    MAPE       RMSE   time\n",
       "0  DecisionTreeRegressor   7795.130  0.2466  12496.880  24.17\n",
       "1       LinearRegression   8827.110  0.2952  12541.950  11.45\n",
       "2               Baseline  13404.349  0.4940  17641.462   0.00"
      ]
     },
     "execution_count": 4,
     "metadata": {},
     "output_type": "execute_result"
    }
   ],
   "source": [
    "c02 = pd.read_csv('../data/cross_performance_c02.csv', index_col=0)\n",
    "c02"
   ]
  },
  {
   "cell_type": "code",
   "execution_count": 5,
   "id": "65c530a8",
   "metadata": {},
   "outputs": [],
   "source": [
    "# Desempenho do modelo DecisionTreeRegressor no ciclo 1\n",
    "desempenho_c01 = c01.loc[c01['Modelo'] == 'DecisionTreeRegressor', 'MAE'].values[0]\n",
    "\n",
    "# Desempenho do modelo DecisionTreeRegressor no ciclo 2\n",
    "desempenho_c02 = c02.loc[c02['Modelo'] == 'DecisionTreeRegressor', 'MAE'].values[0]\n",
    "\n",
    "aumento_percentual = (desempenho_c01 - desempenho_c02) / desempenho_c01"
   ]
  },
  {
   "cell_type": "code",
   "execution_count": 6,
   "id": "6806e41a",
   "metadata": {},
   "outputs": [
    {
     "name": "stdout",
     "output_type": "stream",
     "text": [
      "O ciclo 2 teve uma redução de 29.92% no Erro Absoluto Médio em relação ao ciclo 1\n"
     ]
    }
   ],
   "source": [
    "print(f'O ciclo 2 teve uma redução de {round(aumento_percentual, 4) * 100}% \\\n",
    "no Erro Absoluto Médio em relação ao ciclo 1')"
   ]
  },
  {
   "cell_type": "markdown",
   "id": "19a333b2",
   "metadata": {},
   "source": [
    "# Ciclo 3"
   ]
  },
  {
   "cell_type": "markdown",
   "id": "16106979",
   "metadata": {},
   "source": [
    "## Premissas:"
   ]
  },
  {
   "cell_type": "markdown",
   "id": "9f644eb7",
   "metadata": {},
   "source": [
    "* Criação da classe para gerar as colunas dummies a partir de um texto;\n",
    "* Adicionei a coluna describe e usei a classe para gerar seus dummies (o que piorou o modelo);\n",
    "* Gerei uma Analise Exploratória de algumas colunas. Alguns insights interessantes foram gerados;\n",
    "* Como o modelo estava pesando bastante pela alta dimensionalidade, gerei apenas as palavras\n",
    "mais frequentes e com maior correlação."
   ]
  },
  {
   "cell_type": "markdown",
   "id": "bec5eb88",
   "metadata": {},
   "source": [
    "## Desempenho:"
   ]
  },
  {
   "cell_type": "markdown",
   "id": "5fed9e95",
   "metadata": {},
   "source": [
    "Em desempenho, o Ciclo 3 fracassou: Muito pesado e ineficiente, além de aumentar o erro e gerar overfitting.\n",
    "Entretanto, esse ciclo serviu para entender melhor os dados."
   ]
  },
  {
   "cell_type": "markdown",
   "id": "81a36fa1",
   "metadata": {},
   "source": [
    "# Ciclo 4"
   ]
  },
  {
   "cell_type": "markdown",
   "id": "da1da185",
   "metadata": {},
   "source": [
    "## Premissa 1 - NA Values:"
   ]
  },
  {
   "cell_type": "markdown",
   "id": "8ac0c8b2",
   "metadata": {},
   "source": [
    "- Os valores Nulos das colunas ContractType e ContractTime estavam sendo associados a uma string   \n",
    "indicando que eram valores nulos. Neste ciclo eu associei TODOS os valores nulos à classe com   \n",
    "a distribuição mais próxima. Desta forma:\n",
    "\n",
    "\n",
    "    * ContractType: Na values -> full_time\n",
    "    * ContractTime: Na Values -> permanent\n",
    "    \n",
    "- Houve ganho de desempenho, mas mínimo, com essa atribuicao."
   ]
  },
  {
   "cell_type": "markdown",
   "id": "171ad521",
   "metadata": {},
   "source": [
    "## Premissa 2 - Feature Engineering da coluna SourceName"
   ]
  },
  {
   "cell_type": "markdown",
   "id": "9657b9c9",
   "metadata": {},
   "source": [
    "- Criei colunas dummies para essa feature, usando os SourceName que mais conrrelacionavam   \n",
    "com a variavel resposta.\n",
    "- Entretanto, o desempenho abaixou bastante com essa feature:"
   ]
  },
  {
   "cell_type": "code",
   "execution_count": 11,
   "id": "445c55e6",
   "metadata": {},
   "outputs": [
    {
     "data": {
      "text/html": [
       "<div>\n",
       "<style scoped>\n",
       "    .dataframe tbody tr th:only-of-type {\n",
       "        vertical-align: middle;\n",
       "    }\n",
       "\n",
       "    .dataframe tbody tr th {\n",
       "        vertical-align: top;\n",
       "    }\n",
       "\n",
       "    .dataframe thead th {\n",
       "        text-align: right;\n",
       "    }\n",
       "</style>\n",
       "<table border=\"1\" class=\"dataframe\">\n",
       "  <thead>\n",
       "    <tr style=\"text-align: right;\">\n",
       "      <th></th>\n",
       "      <th>Modelo</th>\n",
       "      <th>MAE</th>\n",
       "      <th>MAPE</th>\n",
       "      <th>RMSE</th>\n",
       "      <th>time</th>\n",
       "    </tr>\n",
       "  </thead>\n",
       "  <tbody>\n",
       "    <tr>\n",
       "      <th>0</th>\n",
       "      <td>DecisionTreeRegressor</td>\n",
       "      <td>9391.950</td>\n",
       "      <td>0.3084</td>\n",
       "      <td>14507.990</td>\n",
       "      <td>24.45</td>\n",
       "    </tr>\n",
       "    <tr>\n",
       "      <th>1</th>\n",
       "      <td>LinearRegression</td>\n",
       "      <td>9778.500</td>\n",
       "      <td>0.3329</td>\n",
       "      <td>13741.010</td>\n",
       "      <td>10.86</td>\n",
       "    </tr>\n",
       "    <tr>\n",
       "      <th>2</th>\n",
       "      <td>Baseline</td>\n",
       "      <td>13405.117</td>\n",
       "      <td>0.4940</td>\n",
       "      <td>17640.966</td>\n",
       "      <td>0.00</td>\n",
       "    </tr>\n",
       "  </tbody>\n",
       "</table>\n",
       "</div>"
      ],
      "text/plain": [
       "                  Modelo        MAE    MAPE       RMSE   time\n",
       "0  DecisionTreeRegressor   9391.950  0.3084  14507.990  24.45\n",
       "1       LinearRegression   9778.500  0.3329  13741.010  10.86\n",
       "2               Baseline  13405.117  0.4940  17640.966   0.00"
      ]
     },
     "execution_count": 11,
     "metadata": {},
     "output_type": "execute_result"
    }
   ],
   "source": [
    "pd.read_csv('../data/cross_performance_c04_sourcename.csv', index_col=0)"
   ]
  },
  {
   "cell_type": "markdown",
   "id": "b395d58a",
   "metadata": {},
   "source": [
    "- Dessa forma, essa feature foi retirada para a sequencia do ciclo"
   ]
  },
  {
   "cell_type": "markdown",
   "id": "8b94e3bd",
   "metadata": {},
   "source": [
    "## Premissa 3 - Feature Engineering da coluna Company"
   ]
  },
  {
   "cell_type": "markdown",
   "id": "36f8b6c1",
   "metadata": {},
   "source": [
    "* Sem correlação "
   ]
  },
  {
   "cell_type": "markdown",
   "id": "ce94d486",
   "metadata": {},
   "source": [
    "## Premissa 4 - Feature Engineering da coluna Location"
   ]
  },
  {
   "cell_type": "markdown",
   "id": "1f091e1a",
   "metadata": {},
   "source": [
    "* Criei dummies com as 5 cidades que mais correlacionam o salario\n",
    "* Houve um ganho de desempenho"
   ]
  },
  {
   "cell_type": "code",
   "execution_count": 12,
   "id": "32c9bcc3",
   "metadata": {},
   "outputs": [
    {
     "data": {
      "text/html": [
       "<div>\n",
       "<style scoped>\n",
       "    .dataframe tbody tr th:only-of-type {\n",
       "        vertical-align: middle;\n",
       "    }\n",
       "\n",
       "    .dataframe tbody tr th {\n",
       "        vertical-align: top;\n",
       "    }\n",
       "\n",
       "    .dataframe thead th {\n",
       "        text-align: right;\n",
       "    }\n",
       "</style>\n",
       "<table border=\"1\" class=\"dataframe\">\n",
       "  <thead>\n",
       "    <tr style=\"text-align: right;\">\n",
       "      <th></th>\n",
       "      <th>Modelo</th>\n",
       "      <th>MAE</th>\n",
       "      <th>MAPE</th>\n",
       "      <th>RMSE</th>\n",
       "      <th>time</th>\n",
       "    </tr>\n",
       "  </thead>\n",
       "  <tbody>\n",
       "    <tr>\n",
       "      <th>0</th>\n",
       "      <td>DecisionTreeRegressor</td>\n",
       "      <td>7661.340</td>\n",
       "      <td>0.2413</td>\n",
       "      <td>12406.350</td>\n",
       "      <td>22.54</td>\n",
       "    </tr>\n",
       "    <tr>\n",
       "      <th>1</th>\n",
       "      <td>LinearRegression</td>\n",
       "      <td>8590.240</td>\n",
       "      <td>0.2866</td>\n",
       "      <td>12250.840</td>\n",
       "      <td>11.55</td>\n",
       "    </tr>\n",
       "    <tr>\n",
       "      <th>2</th>\n",
       "      <td>Baseline</td>\n",
       "      <td>13404.349</td>\n",
       "      <td>0.4940</td>\n",
       "      <td>17641.462</td>\n",
       "      <td>0.00</td>\n",
       "    </tr>\n",
       "  </tbody>\n",
       "</table>\n",
       "</div>"
      ],
      "text/plain": [
       "                  Modelo        MAE    MAPE       RMSE   time\n",
       "0  DecisionTreeRegressor   7661.340  0.2413  12406.350  22.54\n",
       "1       LinearRegression   8590.240  0.2866  12250.840  11.55\n",
       "2               Baseline  13404.349  0.4940  17641.462   0.00"
      ]
     },
     "execution_count": 12,
     "metadata": {},
     "output_type": "execute_result"
    }
   ],
   "source": [
    "pd.read_csv('../data/cross_performance_c04_location.csv', index_col=0)"
   ]
  },
  {
   "cell_type": "markdown",
   "id": "0eefc9ff",
   "metadata": {},
   "source": [
    "# Ciclo 5"
   ]
  },
  {
   "cell_type": "code",
   "execution_count": null,
   "id": "1a21cf5a",
   "metadata": {},
   "outputs": [],
   "source": []
  }
 ],
 "metadata": {
  "kernelspec": {
   "display_name": "Python 3 (ipykernel)",
   "language": "python",
   "name": "python3"
  },
  "language_info": {
   "codemirror_mode": {
    "name": "ipython",
    "version": 3
   },
   "file_extension": ".py",
   "mimetype": "text/x-python",
   "name": "python",
   "nbconvert_exporter": "python",
   "pygments_lexer": "ipython3",
   "version": "3.9.8"
  }
 },
 "nbformat": 4,
 "nbformat_minor": 5
}
