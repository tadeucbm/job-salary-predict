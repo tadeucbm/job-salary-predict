{
 "cells": [
  {
   "cell_type": "markdown",
   "id": "b28bad49",
   "metadata": {},
   "source": [
    "# Ciclo 1"
   ]
  },
  {
   "cell_type": "markdown",
   "id": "48a987aa",
   "metadata": {},
   "source": [
    "## 2.3. Check NA"
   ]
  },
  {
   "cell_type": "markdown",
   "id": "e8209b0e",
   "metadata": {},
   "source": []
  }
 ],
 "metadata": {
  "kernelspec": {
   "display_name": "Python 3 (ipykernel)",
   "language": "python",
   "name": "python3"
  },
  "language_info": {
   "codemirror_mode": {
    "name": "ipython",
    "version": 3
   },
   "file_extension": ".py",
   "mimetype": "text/x-python",
   "name": "python",
   "nbconvert_exporter": "python",
   "pygments_lexer": "ipython3",
   "version": "3.9.8"
  }
 },
 "nbformat": 4,
 "nbformat_minor": 5
}
